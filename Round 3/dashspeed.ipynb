{
  "nbformat": 4,
  "nbformat_minor": 0,
  "metadata": {
    "colab": {
      "name": "Copy of round 3 GRUs.ipynb",
      "provenance": [],
      "collapsed_sections": []
    },
    "kernelspec": {
      "name": "python3",
      "display_name": "Python 3"
    },
    "accelerator": "GPU"
  },
  "cells": [
    {
      "cell_type": "code",
      "metadata": {
        "id": "bwiu89GUYhzt",
        "outputId": "c992c811-8444-42cd-c4c2-425dd0f7dd9c",
        "colab": {
          "base_uri": "https://localhost:8080/"
        }
      },
      "source": [
        "!pip install catboost"
      ],
      "execution_count": null,
      "outputs": [
        {
          "output_type": "stream",
          "text": [
            "Collecting catboost\n",
            "\u001b[?25l  Downloading https://files.pythonhosted.org/packages/52/39/128fff65072c8327371e3c594f3c826d29c85b21cb6485980353b168e0e4/catboost-0.24.2-cp36-none-manylinux1_x86_64.whl (66.1MB)\n",
            "\u001b[K     |████████████████████████████████| 66.2MB 56kB/s \n",
            "\u001b[?25hRequirement already satisfied: graphviz in /usr/local/lib/python3.6/dist-packages (from catboost) (0.10.1)\n",
            "Requirement already satisfied: scipy in /usr/local/lib/python3.6/dist-packages (from catboost) (1.4.1)\n",
            "Requirement already satisfied: numpy>=1.16.0 in /usr/local/lib/python3.6/dist-packages (from catboost) (1.18.5)\n",
            "Requirement already satisfied: six in /usr/local/lib/python3.6/dist-packages (from catboost) (1.15.0)\n",
            "Requirement already satisfied: pandas>=0.24.0 in /usr/local/lib/python3.6/dist-packages (from catboost) (1.1.3)\n",
            "Requirement already satisfied: plotly in /usr/local/lib/python3.6/dist-packages (from catboost) (4.4.1)\n",
            "Requirement already satisfied: matplotlib in /usr/local/lib/python3.6/dist-packages (from catboost) (3.2.2)\n",
            "Requirement already satisfied: pytz>=2017.2 in /usr/local/lib/python3.6/dist-packages (from pandas>=0.24.0->catboost) (2018.9)\n",
            "Requirement already satisfied: python-dateutil>=2.7.3 in /usr/local/lib/python3.6/dist-packages (from pandas>=0.24.0->catboost) (2.8.1)\n",
            "Requirement already satisfied: retrying>=1.3.3 in /usr/local/lib/python3.6/dist-packages (from plotly->catboost) (1.3.3)\n",
            "Requirement already satisfied: cycler>=0.10 in /usr/local/lib/python3.6/dist-packages (from matplotlib->catboost) (0.10.0)\n",
            "Requirement already satisfied: kiwisolver>=1.0.1 in /usr/local/lib/python3.6/dist-packages (from matplotlib->catboost) (1.2.0)\n",
            "Requirement already satisfied: pyparsing!=2.0.4,!=2.1.2,!=2.1.6,>=2.0.1 in /usr/local/lib/python3.6/dist-packages (from matplotlib->catboost) (2.4.7)\n",
            "Installing collected packages: catboost\n",
            "Successfully installed catboost-0.24.2\n"
          ],
          "name": "stdout"
        }
      ]
    },
    {
      "cell_type": "code",
      "metadata": {
        "id": "1J4V0t0hGduS"
      },
      "source": [
        "import os\n",
        "import numpy as np\n",
        "import pandas as pd\n",
        "import matplotlib.pyplot as plt\n",
        "%matplotlib inline"
      ],
      "execution_count": null,
      "outputs": []
    },
    {
      "cell_type": "code",
      "metadata": {
        "id": "EzoA-thEUuvo"
      },
      "source": [
        "train = pd.read_csv('/content/drive/My Drive/Data/DashSpeed/FeaturesDenseOriginal/Train_features.csv')\n",
        "validation = pd.read_csv('/content/drive/My Drive/Data/DashSpeed/FeaturesDenseOriginal/Validation_features.csv')\n",
        "test = pd.read_csv('/content/drive/My Drive/Data/DashSpeed/FeaturesDenseOriginal/Test_features.csv')"
      ],
      "execution_count": null,
      "outputs": []
    },
    {
      "cell_type": "code",
      "metadata": {
        "id": "e-EOpzJGZym6"
      },
      "source": [
        "train_path = '/content/drive/My Drive/Data/DashSpeed/FeaturesDenseOriginal/Train/'\n",
        "val_path = '/content/drive/My Drive/Data/DashSpeed/FeaturesDenseOriginal/Validation/'\n",
        "test_path = '/content/drive/My Drive/Data/DashSpeed/FeaturesDenseOriginal/Test/'\n",
        "\n",
        "train['id'] = train['id'].apply(lambda x: train_path + x)\n",
        "validation['id'] = validation['id'].apply(lambda x: val_path + x)\n",
        "test['id'] = test['id'].apply(lambda x: test_path + x)"
      ],
      "execution_count": null,
      "outputs": []
    },
    {
      "cell_type": "code",
      "metadata": {
        "id": "R5HOj17Gq_iv",
        "outputId": "5b6c610f-0af6-4bd2-821a-abfbcf7757ea",
        "colab": {
          "base_uri": "https://localhost:8080/"
        }
      },
      "source": [
        "print('Train')\n",
        "X_train = [np.load(path).reshape((8,1920)) for path in train['id']]\n",
        "y_train = [spd for spd in train['speed']]\n",
        "\n",
        "print('Validation')\n",
        "X_val = [np.load(path).reshape((8,1920)) for path in validation['id']]\n",
        "y_val = [spd for spd in validation['speed']]\n",
        "\n",
        "print('Test')\n",
        "X_test = [np.load(path).reshape((8,1920)) for path in test['id']]"
      ],
      "execution_count": null,
      "outputs": [
        {
          "output_type": "stream",
          "text": [
            "Train\n",
            "Validation\n",
            "Test\n"
          ],
          "name": "stdout"
        }
      ]
    },
    {
      "cell_type": "code",
      "metadata": {
        "id": "fmU51pJYRwiQ"
      },
      "source": [
        "SHAPE = X_train[0].shape"
      ],
      "execution_count": null,
      "outputs": []
    },
    {
      "cell_type": "code",
      "metadata": {
        "id": "FBXm89ZbaxSn",
        "outputId": "54524982-d33f-4ef8-8923-856a442d734d",
        "colab": {
          "base_uri": "https://localhost:8080/"
        }
      },
      "source": [
        "import keras.backend as K\n",
        "from sklearn.metrics import mean_squared_error\n",
        "\n",
        "def rmse(y_actual, y_predicted):\n",
        "    mse = K.mean(K.square(y_actual - y_predicted))\n",
        "    return K.sqrt(mse)\n",
        "\n",
        "import keras\n",
        "from keras.models import Model, Sequential\n",
        "from keras.layers import *\n",
        "from keras.activations import *\n",
        "from keras.optimizers import *\n",
        "from keras.callbacks import *\n",
        "\n",
        "inputs = Input(shape=SHAPE)\n",
        "\n",
        "output = Bidirectional(GRU(units=32, activation='tanh', return_sequences=True))(inputs)\n",
        "output = Bidirectional(GRU(units=64, activation='tanh'))(output)\n",
        "output = Dropout(rate=0.2)(output)\n",
        "\n",
        "output = Dense(units=48, activation='relu', )(output)\n",
        "output = Dropout(rate=0.3)(output)\n",
        "\n",
        "suboutput = Dense(units=32, activation='relu')(output)\n",
        "output = Dropout(rate=0.2)(suboutput)\n",
        "\n",
        "output = Dense(units=1, activation='relu')(output)\n",
        "\n",
        "model = Model(inputs, output)\n",
        "submodel = Model(inputs, suboutput)\n",
        "\n",
        "model.compile(loss = rmse,\n",
        "              metrics = [rmse],\n",
        "              optimizer = Adam())\n",
        "\n",
        "model.summary()"
      ],
      "execution_count": null,
      "outputs": [
        {
          "output_type": "stream",
          "text": [
            "Model: \"functional_5\"\n",
            "_________________________________________________________________\n",
            "Layer (type)                 Output Shape              Param #   \n",
            "=================================================================\n",
            "input_2 (InputLayer)         [(None, 8, 1920)]         0         \n",
            "_________________________________________________________________\n",
            "bidirectional_2 (Bidirection (None, 8, 64)             375168    \n",
            "_________________________________________________________________\n",
            "bidirectional_3 (Bidirection (None, 128)               49920     \n",
            "_________________________________________________________________\n",
            "dropout_3 (Dropout)          (None, 128)               0         \n",
            "_________________________________________________________________\n",
            "dense_3 (Dense)              (None, 48)                6192      \n",
            "_________________________________________________________________\n",
            "dropout_4 (Dropout)          (None, 48)                0         \n",
            "_________________________________________________________________\n",
            "dense_4 (Dense)              (None, 32)                1568      \n",
            "_________________________________________________________________\n",
            "dropout_5 (Dropout)          (None, 32)                0         \n",
            "_________________________________________________________________\n",
            "dense_5 (Dense)              (None, 1)                 33        \n",
            "=================================================================\n",
            "Total params: 432,881\n",
            "Trainable params: 432,881\n",
            "Non-trainable params: 0\n",
            "_________________________________________________________________\n"
          ],
          "name": "stdout"
        }
      ]
    },
    {
      "cell_type": "code",
      "metadata": {
        "id": "EnCFvqNUSqdd",
        "outputId": "6dcf47d8-c1d5-4dc8-d034-37f996ff9a92",
        "colab": {
          "base_uri": "https://localhost:8080/"
        }
      },
      "source": [
        "from sklearn.model_selection import KFold\n",
        "\n",
        "test_for_id = pd.read_csv('/content/drive/My Drive/Data/dashspeed/FeaturesDenseOriginal/Test_features.csv')\n",
        "id = test_for_id['id'].apply(lambda x: int(x.split('.')[0])).values\n",
        "\n",
        "kfold = KFold(5, shuffle=True, random_state=123)\n",
        "\n",
        "predictions = []\n",
        "accuracies = []\n",
        "\n",
        "kfold.get_n_splits(X_train, y_train)\n",
        "fold = 1\n",
        "\n",
        "for train_idx, test_idx in kfold.split(X_train, y_train):\n",
        "    \n",
        "    train_x, train_y = np.array(X_train)[train_idx], np.array(y_train)[train_idx]\n",
        "    val_x, val_y = np.array(X_train)[test_idx], np.array(y_train)[test_idx]\n",
        "\n",
        "    print(f'FOLD: {fold}')\n",
        "    model.fit(train_x, train_y,\n",
        "              validation_data=(val_x, val_y),\n",
        "              epochs=30, batch_size=16,\n",
        "              callbacks=[EarlyStopping(patience=5, monitor='val_rmse')]\n",
        "             )\n",
        "    print()\n",
        "    evaluation = model.evaluate(np.array(X_val), np.array(y_val))\n",
        "    print(f'Evaluation Score: {evaluation}')\n",
        "    accuracies.append(evaluation[-1])\n",
        "\n",
        "    prediction = model.predict(np.array(X_test))\n",
        "    prediction = pd.DataFrame(data={'ID':id, 'speed':prediction.reshape(152,)})\n",
        "    predictions.append(prediction)\n",
        "\n",
        "    print('==='*60)\n",
        "\n",
        "    fold += 1\n",
        "\n",
        "print()\n",
        "print(f'MIN: {min(accuracies)}')\n",
        "print(f'MAX: {max(accuracies)}')\n",
        "print(f'MEAN: {np.mean(accuracies)}')"
      ],
      "execution_count": null,
      "outputs": [
        {
          "output_type": "stream",
          "text": [
            "FOLD: 1\n",
            "Epoch 1/30\n",
            "23/23 [==============================] - 2s 80ms/step - loss: 1.6383 - rmse: 1.6406 - val_loss: 1.9111 - val_rmse: 1.9238\n",
            "Epoch 2/30\n",
            "23/23 [==============================] - 1s 30ms/step - loss: 1.5682 - rmse: 1.5704 - val_loss: 1.9227 - val_rmse: 1.9385\n",
            "Epoch 3/30\n",
            "23/23 [==============================] - 1s 29ms/step - loss: 1.5348 - rmse: 1.5332 - val_loss: 1.9318 - val_rmse: 1.9477\n",
            "Epoch 4/30\n",
            "23/23 [==============================] - 1s 30ms/step - loss: 1.5174 - rmse: 1.5121 - val_loss: 2.0293 - val_rmse: 2.0407\n",
            "Epoch 5/30\n",
            "23/23 [==============================] - 1s 29ms/step - loss: 1.5219 - rmse: 1.5301 - val_loss: 1.8827 - val_rmse: 1.8950\n",
            "Epoch 6/30\n",
            "23/23 [==============================] - 1s 29ms/step - loss: 1.4649 - rmse: 1.4695 - val_loss: 1.9524 - val_rmse: 1.9666\n",
            "Epoch 7/30\n",
            "23/23 [==============================] - 1s 30ms/step - loss: 1.5013 - rmse: 1.4995 - val_loss: 1.7908 - val_rmse: 1.8065\n",
            "Epoch 8/30\n",
            "23/23 [==============================] - 1s 29ms/step - loss: 1.5279 - rmse: 1.5333 - val_loss: 1.8219 - val_rmse: 1.8339\n",
            "Epoch 9/30\n",
            "23/23 [==============================] - 1s 30ms/step - loss: 1.5354 - rmse: 1.5331 - val_loss: 1.8533 - val_rmse: 1.8656\n",
            "Epoch 10/30\n",
            "23/23 [==============================] - 1s 29ms/step - loss: 1.5223 - rmse: 1.5295 - val_loss: 1.9061 - val_rmse: 1.9189\n",
            "Epoch 11/30\n",
            "23/23 [==============================] - 1s 29ms/step - loss: 1.4803 - rmse: 1.4818 - val_loss: 1.7900 - val_rmse: 1.8029\n",
            "Epoch 12/30\n",
            "23/23 [==============================] - 1s 29ms/step - loss: 1.5125 - rmse: 1.5102 - val_loss: 2.0124 - val_rmse: 2.0261\n",
            "Epoch 13/30\n",
            "23/23 [==============================] - 1s 29ms/step - loss: 1.4903 - rmse: 1.4903 - val_loss: 2.0469 - val_rmse: 2.0586\n",
            "Epoch 14/30\n",
            "23/23 [==============================] - 1s 29ms/step - loss: 1.4859 - rmse: 1.4855 - val_loss: 1.8235 - val_rmse: 1.8353\n",
            "Epoch 15/30\n",
            "23/23 [==============================] - 1s 29ms/step - loss: 1.4561 - rmse: 1.4540 - val_loss: 2.0124 - val_rmse: 2.0241\n",
            "Epoch 16/30\n",
            "23/23 [==============================] - 1s 29ms/step - loss: 1.4647 - rmse: 1.4630 - val_loss: 2.0272 - val_rmse: 2.0403\n",
            "\n",
            "5/5 [==============================] - 0s 12ms/step - loss: 1.6635 - rmse: 1.6604\n",
            "Evaluation Score: [1.663473129272461, 1.6604417562484741]\n",
            "====================================================================================================================================================================================\n",
            "FOLD: 2\n",
            "Epoch 1/30\n",
            "23/23 [==============================] - 1s 31ms/step - loss: 1.5504 - rmse: 1.5485 - val_loss: 1.5761 - val_rmse: 1.5945\n",
            "Epoch 2/30\n",
            "23/23 [==============================] - 1s 29ms/step - loss: 1.5477 - rmse: 1.5556 - val_loss: 1.5263 - val_rmse: 1.5415\n",
            "Epoch 3/30\n",
            "23/23 [==============================] - 1s 30ms/step - loss: 1.5935 - rmse: 1.5974 - val_loss: 1.5859 - val_rmse: 1.6015\n",
            "Epoch 4/30\n",
            "23/23 [==============================] - 1s 29ms/step - loss: 1.5299 - rmse: 1.5280 - val_loss: 1.6320 - val_rmse: 1.6507\n",
            "Epoch 5/30\n",
            "23/23 [==============================] - 1s 30ms/step - loss: 1.5513 - rmse: 1.5484 - val_loss: 1.5726 - val_rmse: 1.5880\n",
            "Epoch 6/30\n",
            "23/23 [==============================] - 1s 29ms/step - loss: 1.5134 - rmse: 1.5100 - val_loss: 1.5846 - val_rmse: 1.6052\n",
            "Epoch 7/30\n",
            "23/23 [==============================] - 1s 29ms/step - loss: 1.5131 - rmse: 1.5067 - val_loss: 1.6178 - val_rmse: 1.6341\n",
            "\n",
            "5/5 [==============================] - 0s 10ms/step - loss: 1.6323 - rmse: 1.6288\n",
            "Evaluation Score: [1.6322540044784546, 1.6287803649902344]\n",
            "====================================================================================================================================================================================\n",
            "FOLD: 3\n",
            "Epoch 1/30\n",
            "23/23 [==============================] - 1s 30ms/step - loss: 1.5191 - rmse: 1.5173 - val_loss: 1.2541 - val_rmse: 1.2631\n",
            "Epoch 2/30\n",
            "23/23 [==============================] - 1s 29ms/step - loss: 1.5964 - rmse: 1.5950 - val_loss: 1.2597 - val_rmse: 1.2692\n",
            "Epoch 3/30\n",
            "23/23 [==============================] - 1s 29ms/step - loss: 1.5520 - rmse: 1.5521 - val_loss: 1.2549 - val_rmse: 1.2644\n",
            "Epoch 4/30\n",
            "23/23 [==============================] - 1s 30ms/step - loss: 1.6174 - rmse: 1.6131 - val_loss: 1.3024 - val_rmse: 1.3184\n",
            "Epoch 5/30\n",
            "23/23 [==============================] - 1s 29ms/step - loss: 1.5842 - rmse: 1.5808 - val_loss: 1.2753 - val_rmse: 1.2861\n",
            "Epoch 6/30\n",
            "23/23 [==============================] - 1s 29ms/step - loss: 1.6169 - rmse: 1.6135 - val_loss: 1.2770 - val_rmse: 1.2904\n",
            "\n",
            "5/5 [==============================] - 0s 10ms/step - loss: 1.5863 - rmse: 1.5866\n",
            "Evaluation Score: [1.5863484144210815, 1.5865713357925415]\n",
            "====================================================================================================================================================================================\n",
            "FOLD: 4\n",
            "Epoch 1/30\n",
            "23/23 [==============================] - 1s 31ms/step - loss: 1.5264 - rmse: 1.5241 - val_loss: 1.3965 - val_rmse: 1.3889\n",
            "Epoch 2/30\n",
            "23/23 [==============================] - 1s 32ms/step - loss: 1.5330 - rmse: 1.5374 - val_loss: 1.4909 - val_rmse: 1.4865\n",
            "Epoch 3/30\n",
            "23/23 [==============================] - 1s 29ms/step - loss: 1.5455 - rmse: 1.5411 - val_loss: 1.4590 - val_rmse: 1.4546\n",
            "Epoch 4/30\n",
            "23/23 [==============================] - 1s 29ms/step - loss: 1.5253 - rmse: 1.5290 - val_loss: 1.4165 - val_rmse: 1.4118\n",
            "Epoch 5/30\n",
            "23/23 [==============================] - 1s 30ms/step - loss: 1.5186 - rmse: 1.5190 - val_loss: 1.4575 - val_rmse: 1.4487\n",
            "Epoch 6/30\n",
            "23/23 [==============================] - 1s 28ms/step - loss: 1.5453 - rmse: 1.5434 - val_loss: 1.4249 - val_rmse: 1.4148\n",
            "\n",
            "5/5 [==============================] - 0s 10ms/step - loss: 1.5483 - rmse: 1.5487\n",
            "Evaluation Score: [1.5483381748199463, 1.5486613512039185]\n",
            "====================================================================================================================================================================================\n",
            "FOLD: 5\n",
            "Epoch 1/30\n",
            "23/23 [==============================] - 1s 31ms/step - loss: 1.5343 - rmse: 1.5387 - val_loss: 1.3904 - val_rmse: 1.4120\n",
            "Epoch 2/30\n",
            "23/23 [==============================] - 1s 29ms/step - loss: 1.5930 - rmse: 1.6118 - val_loss: 1.4579 - val_rmse: 1.4810\n",
            "Epoch 3/30\n",
            "23/23 [==============================] - 1s 31ms/step - loss: 1.6016 - rmse: 1.6032 - val_loss: 1.4154 - val_rmse: 1.4368\n",
            "Epoch 4/30\n",
            "23/23 [==============================] - 1s 32ms/step - loss: 1.5349 - rmse: 1.5398 - val_loss: 1.4010 - val_rmse: 1.4215\n",
            "Epoch 5/30\n",
            "23/23 [==============================] - 1s 29ms/step - loss: 1.5844 - rmse: 1.6008 - val_loss: 1.3575 - val_rmse: 1.3790\n",
            "Epoch 6/30\n",
            "23/23 [==============================] - 1s 29ms/step - loss: 1.5865 - rmse: 1.5891 - val_loss: 1.4367 - val_rmse: 1.4613\n",
            "Epoch 7/30\n",
            "23/23 [==============================] - 1s 30ms/step - loss: 1.5956 - rmse: 1.5914 - val_loss: 1.4200 - val_rmse: 1.4439\n",
            "Epoch 8/30\n",
            "23/23 [==============================] - 1s 29ms/step - loss: 1.5769 - rmse: 1.5733 - val_loss: 1.4442 - val_rmse: 1.4688\n",
            "Epoch 9/30\n",
            "23/23 [==============================] - 1s 30ms/step - loss: 1.5928 - rmse: 1.5974 - val_loss: 1.4082 - val_rmse: 1.4312\n",
            "Epoch 10/30\n",
            "23/23 [==============================] - 1s 30ms/step - loss: 1.6120 - rmse: 1.6117 - val_loss: 1.4005 - val_rmse: 1.4229\n",
            "\n",
            "5/5 [==============================] - 0s 10ms/step - loss: 1.5622 - rmse: 1.5620\n",
            "Evaluation Score: [1.5621737241744995, 1.562031626701355]\n",
            "====================================================================================================================================================================================\n",
            "\n",
            "MIN: 1.5486613512039185\n",
            "MAX: 1.6604417562484741\n",
            "MEAN: 1.5972972869873048\n"
          ],
          "name": "stdout"
        }
      ]
    },
    {
      "cell_type": "code",
      "metadata": {
        "id": "QP1s1Iiisvoj"
      },
      "source": [
        "ens_speed = sum([df['speed'] for df in predictions])/5\n",
        "submission = pd.DataFrame(data={'ID':id, 'speed':ens_speed})"
      ],
      "execution_count": null,
      "outputs": []
    },
    {
      "cell_type": "code",
      "metadata": {
        "id": "4hFOGn_ktXKK"
      },
      "source": [
        "submission.to_csv('submission_neural.csv', index=False)"
      ],
      "execution_count": null,
      "outputs": []
    },
    {
      "cell_type": "markdown",
      "metadata": {
        "id": "q5k5HQsNJYgT"
      },
      "source": [
        "####*Refitting the model on training and validation data to feed the hidden layer features into catboost.*"
      ]
    },
    {
      "cell_type": "code",
      "metadata": {
        "id": "UzqDUgUjUgJS",
        "outputId": "2dce0b8e-d708-494e-b2a2-0e0a962ca94a",
        "colab": {
          "base_uri": "https://localhost:8080/"
        }
      },
      "source": [
        "model.fit(np.array(X_train), np.array(y_train),\n",
        "            validation_data=(np.array(X_val), np.array(y_val)),\n",
        "            epochs=30, batch_size=16,\n",
        "            callbacks=[EarlyStopping(patience=8, monitor='val_rmse')]\n",
        "            )"
      ],
      "execution_count": null,
      "outputs": [
        {
          "output_type": "stream",
          "text": [
            "Epoch 1/30\n",
            "29/29 [==============================] - 1s 31ms/step - loss: 1.5216 - rmse: 1.5170 - val_loss: 1.5666 - val_rmse: 1.5460\n",
            "Epoch 2/30\n",
            "29/29 [==============================] - 1s 30ms/step - loss: 1.5463 - rmse: 1.5504 - val_loss: 1.6024 - val_rmse: 1.5801\n",
            "Epoch 3/30\n",
            "29/29 [==============================] - 1s 31ms/step - loss: 1.5739 - rmse: 1.5655 - val_loss: 1.5866 - val_rmse: 1.5650\n",
            "Epoch 4/30\n",
            "29/29 [==============================] - 1s 30ms/step - loss: 1.5761 - rmse: 1.5741 - val_loss: 1.6071 - val_rmse: 1.5843\n",
            "Epoch 5/30\n",
            "29/29 [==============================] - 1s 31ms/step - loss: 1.5806 - rmse: 1.5714 - val_loss: 1.5520 - val_rmse: 1.5325\n",
            "Epoch 6/30\n",
            "29/29 [==============================] - 1s 31ms/step - loss: 1.5669 - rmse: 1.5570 - val_loss: 1.5846 - val_rmse: 1.5627\n",
            "Epoch 7/30\n",
            "29/29 [==============================] - 1s 30ms/step - loss: 1.5530 - rmse: 1.5458 - val_loss: 1.5440 - val_rmse: 1.5250\n",
            "Epoch 8/30\n",
            "29/29 [==============================] - 1s 31ms/step - loss: 1.5312 - rmse: 1.5245 - val_loss: 1.6382 - val_rmse: 1.6137\n",
            "Epoch 9/30\n",
            "29/29 [==============================] - 1s 30ms/step - loss: 1.5262 - rmse: 1.5225 - val_loss: 1.5567 - val_rmse: 1.5366\n",
            "Epoch 10/30\n",
            "29/29 [==============================] - 1s 31ms/step - loss: 1.5227 - rmse: 1.5458 - val_loss: 1.5796 - val_rmse: 1.5575\n",
            "Epoch 11/30\n",
            "29/29 [==============================] - 1s 31ms/step - loss: 1.5142 - rmse: 1.4995 - val_loss: 1.5849 - val_rmse: 1.5626\n",
            "Epoch 12/30\n",
            "29/29 [==============================] - 1s 30ms/step - loss: 1.5167 - rmse: 1.5614 - val_loss: 1.5653 - val_rmse: 1.5440\n",
            "Epoch 13/30\n",
            "29/29 [==============================] - 1s 31ms/step - loss: 1.5213 - rmse: 1.5248 - val_loss: 1.5653 - val_rmse: 1.5446\n",
            "Epoch 14/30\n",
            "29/29 [==============================] - 1s 32ms/step - loss: 1.5730 - rmse: 1.5737 - val_loss: 1.5224 - val_rmse: 1.5060\n",
            "Epoch 15/30\n",
            "29/29 [==============================] - 1s 31ms/step - loss: 1.5633 - rmse: 1.5668 - val_loss: 1.6062 - val_rmse: 1.5828\n",
            "Epoch 16/30\n",
            "29/29 [==============================] - 1s 30ms/step - loss: 1.5120 - rmse: 1.5088 - val_loss: 1.5811 - val_rmse: 1.5592\n",
            "Epoch 17/30\n",
            "29/29 [==============================] - 1s 30ms/step - loss: 1.5328 - rmse: 1.5274 - val_loss: 1.5465 - val_rmse: 1.5268\n",
            "Epoch 18/30\n",
            "29/29 [==============================] - 1s 30ms/step - loss: 1.5311 - rmse: 1.5295 - val_loss: 1.5582 - val_rmse: 1.5378\n",
            "Epoch 19/30\n",
            "29/29 [==============================] - 1s 30ms/step - loss: 1.5228 - rmse: 1.5226 - val_loss: 1.5741 - val_rmse: 1.5523\n",
            "Epoch 20/30\n",
            "29/29 [==============================] - 1s 29ms/step - loss: 1.5200 - rmse: 1.5196 - val_loss: 1.5866 - val_rmse: 1.5642\n",
            "Epoch 21/30\n",
            "29/29 [==============================] - 1s 30ms/step - loss: 1.5306 - rmse: 1.5256 - val_loss: 1.5521 - val_rmse: 1.5298\n",
            "Epoch 22/30\n",
            "29/29 [==============================] - 1s 31ms/step - loss: 1.5180 - rmse: 1.5132 - val_loss: 1.5199 - val_rmse: 1.5024\n",
            "Epoch 23/30\n",
            "29/29 [==============================] - 1s 30ms/step - loss: 1.5130 - rmse: 1.5051 - val_loss: 1.5932 - val_rmse: 1.5696\n",
            "Epoch 24/30\n",
            "29/29 [==============================] - 1s 30ms/step - loss: 1.4971 - rmse: 1.4958 - val_loss: 1.5290 - val_rmse: 1.5075\n",
            "Epoch 25/30\n",
            "29/29 [==============================] - 1s 30ms/step - loss: 1.5135 - rmse: 1.5114 - val_loss: 1.5344 - val_rmse: 1.5139\n",
            "Epoch 26/30\n",
            "29/29 [==============================] - 1s 29ms/step - loss: 1.5017 - rmse: 1.5017 - val_loss: 1.5254 - val_rmse: 1.5048\n",
            "Epoch 27/30\n",
            "29/29 [==============================] - 1s 30ms/step - loss: 1.5040 - rmse: 1.5074 - val_loss: 1.5080 - val_rmse: 1.4894\n",
            "Epoch 28/30\n",
            "29/29 [==============================] - 1s 30ms/step - loss: 1.4886 - rmse: 1.4860 - val_loss: 1.5004 - val_rmse: 1.4855\n",
            "Epoch 29/30\n",
            "29/29 [==============================] - 1s 30ms/step - loss: 1.5251 - rmse: 1.5200 - val_loss: 1.5077 - val_rmse: 1.4918\n",
            "Epoch 30/30\n",
            "29/29 [==============================] - 1s 29ms/step - loss: 1.5281 - rmse: 1.5183 - val_loss: 1.5549 - val_rmse: 1.5355\n"
          ],
          "name": "stdout"
        },
        {
          "output_type": "execute_result",
          "data": {
            "text/plain": [
              "<tensorflow.python.keras.callbacks.History at 0x7fa23c050550>"
            ]
          },
          "metadata": {
            "tags": []
          },
          "execution_count": 25
        }
      ]
    },
    {
      "cell_type": "code",
      "metadata": {
        "id": "ipvAUubPUw1I"
      },
      "source": [
        "subpredictions = pd.DataFrame(data=submodel.predict(np.array(X_train + X_val)))\n",
        "Xtest = pd.DataFrame(data=submodel.predict(np.array(X_test)))"
      ],
      "execution_count": null,
      "outputs": []
    },
    {
      "cell_type": "code",
      "metadata": {
        "id": "cVI1A4sOVYAT",
        "outputId": "64257646-925e-4b3e-959d-8bc3b4d79bb1",
        "colab": {
          "base_uri": "https://localhost:8080/"
        }
      },
      "source": [
        "X = subpredictions\n",
        "y = np.array(y_train + y_val)\n",
        "\n",
        "from xgboost import XGBRegressor\n",
        "from catboost import CatBoostRegressor\n",
        "from lightgbm import LGBMRegressor\n",
        "from sklearn.metrics import mean_squared_error\n",
        "\n",
        "fold = KFold(5, shuffle=True, random_state=12422)\n",
        "\n",
        "predictions_cat = []\n",
        "predictions_lgbm = []\n",
        "predictions_xgb = []\n",
        "\n",
        "scores = []\n",
        "predictions = []\n",
        "\n",
        "i = 1\n",
        "fold.get_n_splits(X,y)\n",
        "\n",
        "for train_idx, test_idx in fold.split(X,y):\n",
        "\n",
        "    print(f'FOLD: {i}')\n",
        "\n",
        "    Xtrain, ytrain = X.iloc[train_idx], y[train_idx]\n",
        "    Xval, yval = X.iloc[test_idx], y[test_idx]\n",
        "\n",
        "    model_cat = CatBoostRegressor(iterations=2000, eval_metric='RMSE', od_type='iter')\n",
        "    model_cat.fit(Xtrain, ytrain,\n",
        "                      eval_set = (Xval, yval),\n",
        "                      early_stopping_rounds = 100,\n",
        "                      verbose = 50)\n",
        "    labels_cat = model_cat.predict(Xval)\n",
        "    prediction_cat = model_cat.predict(Xtest)\n",
        "    predictions_cat.append(prediction_cat)\n",
        "    print('---'*40)\n",
        "\n",
        "    i += 1"
      ],
      "execution_count": null,
      "outputs": [
        {
          "output_type": "stream",
          "text": [
            "FOLD: 1\n",
            "Learning rate set to 0.026105\n",
            "0:\tlearn: 1.5733539\ttest: 1.4887402\tbest: 1.4887402 (0)\ttotal: 2.05ms\tremaining: 4.09s\n",
            "50:\tlearn: 1.4706414\ttest: 1.4643814\tbest: 1.4641307 (46)\ttotal: 59.6ms\tremaining: 2.28s\n",
            "100:\tlearn: 1.4253798\ttest: 1.4625991\tbest: 1.4624396 (98)\ttotal: 115ms\tremaining: 2.15s\n",
            "150:\tlearn: 1.3884507\ttest: 1.4606338\tbest: 1.4606338 (150)\ttotal: 173ms\tremaining: 2.11s\n",
            "200:\tlearn: 1.3595953\ttest: 1.4620660\tbest: 1.4599769 (153)\ttotal: 230ms\tremaining: 2.06s\n",
            "250:\tlearn: 1.3333062\ttest: 1.4602530\tbest: 1.4592085 (244)\ttotal: 285ms\tremaining: 1.99s\n",
            "300:\tlearn: 1.3075356\ttest: 1.4589147\tbest: 1.4581373 (281)\ttotal: 340ms\tremaining: 1.92s\n",
            "350:\tlearn: 1.2813292\ttest: 1.4576025\tbest: 1.4561847 (330)\ttotal: 408ms\tremaining: 1.92s\n",
            "400:\tlearn: 1.2477094\ttest: 1.4534525\tbest: 1.4520334 (383)\ttotal: 465ms\tremaining: 1.85s\n",
            "450:\tlearn: 1.2050996\ttest: 1.4488109\tbest: 1.4467831 (440)\ttotal: 525ms\tremaining: 1.8s\n",
            "500:\tlearn: 1.1738544\ttest: 1.4472064\tbest: 1.4455401 (489)\ttotal: 580ms\tremaining: 1.74s\n",
            "550:\tlearn: 1.1443040\ttest: 1.4476570\tbest: 1.4455401 (489)\ttotal: 643ms\tremaining: 1.69s\n",
            "Stopped by overfitting detector  (100 iterations wait)\n",
            "\n",
            "bestTest = 1.445540117\n",
            "bestIteration = 489\n",
            "\n",
            "Shrink model to first 490 iterations.\n",
            "------------------------------------------------------------------------------------------------------------------------\n",
            "FOLD: 2\n",
            "Learning rate set to 0.026105\n",
            "0:\tlearn: 1.5551565\ttest: 1.5611366\tbest: 1.5611366 (0)\ttotal: 1.65ms\tremaining: 3.31s\n",
            "50:\tlearn: 1.4582621\ttest: 1.5274695\tbest: 1.5274695 (50)\ttotal: 56.4ms\tremaining: 2.15s\n",
            "100:\tlearn: 1.4122240\ttest: 1.5167949\tbest: 1.5158660 (94)\ttotal: 119ms\tremaining: 2.24s\n",
            "150:\tlearn: 1.3823441\ttest: 1.5119336\tbest: 1.5118521 (147)\ttotal: 180ms\tremaining: 2.21s\n",
            "200:\tlearn: 1.3524358\ttest: 1.5122922\tbest: 1.5103298 (183)\ttotal: 238ms\tremaining: 2.13s\n",
            "250:\tlearn: 1.3254192\ttest: 1.5130064\tbest: 1.5103298 (183)\ttotal: 295ms\tremaining: 2.05s\n",
            "Stopped by overfitting detector  (100 iterations wait)\n",
            "\n",
            "bestTest = 1.510329788\n",
            "bestIteration = 183\n",
            "\n",
            "Shrink model to first 184 iterations.\n",
            "------------------------------------------------------------------------------------------------------------------------\n",
            "FOLD: 3\n",
            "Learning rate set to 0.026105\n",
            "0:\tlearn: 1.5887860\ttest: 1.4247885\tbest: 1.4247885 (0)\ttotal: 1.52ms\tremaining: 3.04s\n",
            "50:\tlearn: 1.5000110\ttest: 1.4048599\tbest: 1.4032652 (30)\ttotal: 56.2ms\tremaining: 2.15s\n",
            "100:\tlearn: 1.4556280\ttest: 1.4121288\tbest: 1.4023900 (59)\ttotal: 112ms\tremaining: 2.1s\n",
            "150:\tlearn: 1.4224970\ttest: 1.4259899\tbest: 1.4023900 (59)\ttotal: 171ms\tremaining: 2.1s\n",
            "Stopped by overfitting detector  (100 iterations wait)\n",
            "\n",
            "bestTest = 1.402389991\n",
            "bestIteration = 59\n",
            "\n",
            "Shrink model to first 60 iterations.\n",
            "------------------------------------------------------------------------------------------------------------------------\n",
            "FOLD: 4\n",
            "Learning rate set to 0.026115\n",
            "0:\tlearn: 1.5794075\ttest: 1.4644869\tbest: 1.4644869 (0)\ttotal: 1.58ms\tremaining: 3.17s\n",
            "50:\tlearn: 1.4757005\ttest: 1.4317356\tbest: 1.4292322 (40)\ttotal: 57.4ms\tremaining: 2.19s\n",
            "100:\tlearn: 1.4266549\ttest: 1.4477681\tbest: 1.4292322 (40)\ttotal: 112ms\tremaining: 2.11s\n",
            "Stopped by overfitting detector  (100 iterations wait)\n",
            "\n",
            "bestTest = 1.42923216\n",
            "bestIteration = 40\n",
            "\n",
            "Shrink model to first 41 iterations.\n",
            "------------------------------------------------------------------------------------------------------------------------\n",
            "FOLD: 5\n",
            "Learning rate set to 0.026115\n",
            "0:\tlearn: 1.4810062\ttest: 1.8340412\tbest: 1.8340412 (0)\ttotal: 1.62ms\tremaining: 3.24s\n",
            "50:\tlearn: 1.4063115\ttest: 1.7559436\tbest: 1.7559436 (50)\ttotal: 59.2ms\tremaining: 2.26s\n",
            "100:\tlearn: 1.3719068\ttest: 1.7285921\tbest: 1.7285921 (100)\ttotal: 116ms\tremaining: 2.18s\n",
            "150:\tlearn: 1.3387438\ttest: 1.7169646\tbest: 1.7162041 (149)\ttotal: 177ms\tremaining: 2.17s\n",
            "200:\tlearn: 1.3055588\ttest: 1.7136123\tbest: 1.7129845 (173)\ttotal: 236ms\tremaining: 2.11s\n",
            "250:\tlearn: 1.2844953\ttest: 1.7102791\tbest: 1.7094913 (246)\ttotal: 294ms\tremaining: 2.05s\n",
            "300:\tlearn: 1.2619966\ttest: 1.7105201\tbest: 1.7094913 (246)\ttotal: 353ms\tremaining: 1.99s\n",
            "350:\tlearn: 1.2328430\ttest: 1.7098863\tbest: 1.7092453 (324)\ttotal: 414ms\tremaining: 1.95s\n",
            "400:\tlearn: 1.2005797\ttest: 1.7127169\tbest: 1.7092453 (324)\ttotal: 471ms\tremaining: 1.88s\n",
            "Stopped by overfitting detector  (100 iterations wait)\n",
            "\n",
            "bestTest = 1.709245309\n",
            "bestIteration = 324\n",
            "\n",
            "Shrink model to first 325 iterations.\n",
            "------------------------------------------------------------------------------------------------------------------------\n"
          ],
          "name": "stdout"
        }
      ]
    },
    {
      "cell_type": "code",
      "metadata": {
        "id": "4GqB2aWdYWzu"
      },
      "source": [
        "submissions = pd.DataFrame(data={'ID':id, 'speed':sum(predictions_cat)/5})\n",
        "submissions.to_csv('submission_cat_Densenet.csv', index=False)"
      ],
      "execution_count": null,
      "outputs": []
    }
  ]
}