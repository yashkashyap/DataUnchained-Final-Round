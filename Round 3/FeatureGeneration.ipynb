{
  "nbformat": 4,
  "nbformat_minor": 0,
  "metadata": {
    "colab": {
      "name": "round3.ipynb",
      "provenance": [],
      "collapsed_sections": []
    },
    "kernelspec": {
      "name": "python3",
      "display_name": "Python 3"
    }
  },
  "cells": [
    {
      "cell_type": "code",
      "metadata": {
        "id": "ALyX0KQBCIOd",
        "outputId": "86a35410-7fe7-4075-c977-b64bc4df1e7a",
        "colab": {
          "base_uri": "https://localhost:8080/"
        }
      },
      "source": [
        "import numpy as np\n",
        "import pandas as pd\n",
        "import matplotlib.pyplot as plt\n",
        "import seaborn as sns\n",
        "%matplotlib inline\n",
        "\n",
        "import os, cv2\n",
        "\n",
        "!pip install efficientnet"
      ],
      "execution_count": null,
      "outputs": [
        {
          "output_type": "stream",
          "text": [
            "Collecting efficientnet\n",
            "  Downloading https://files.pythonhosted.org/packages/53/97/84f88e581d6ac86dcf1ab347c497c4c568c38784e3a2bd659b96912ab793/efficientnet-1.1.1-py3-none-any.whl\n",
            "Requirement already satisfied: scikit-image in /usr/local/lib/python3.6/dist-packages (from efficientnet) (0.16.2)\n",
            "Collecting keras-applications<=1.0.8,>=1.0.7\n",
            "\u001b[?25l  Downloading https://files.pythonhosted.org/packages/71/e3/19762fdfc62877ae9102edf6342d71b28fbfd9dea3d2f96a882ce099b03f/Keras_Applications-1.0.8-py3-none-any.whl (50kB)\n",
            "\u001b[K     |████████████████████████████████| 51kB 2.2MB/s \n",
            "\u001b[?25hRequirement already satisfied: pillow>=4.3.0 in /usr/local/lib/python3.6/dist-packages (from scikit-image->efficientnet) (7.0.0)\n",
            "Requirement already satisfied: matplotlib!=3.0.0,>=2.0.0 in /usr/local/lib/python3.6/dist-packages (from scikit-image->efficientnet) (3.2.2)\n",
            "Requirement already satisfied: scipy>=0.19.0 in /usr/local/lib/python3.6/dist-packages (from scikit-image->efficientnet) (1.4.1)\n",
            "Requirement already satisfied: PyWavelets>=0.4.0 in /usr/local/lib/python3.6/dist-packages (from scikit-image->efficientnet) (1.1.1)\n",
            "Requirement already satisfied: networkx>=2.0 in /usr/local/lib/python3.6/dist-packages (from scikit-image->efficientnet) (2.5)\n",
            "Requirement already satisfied: imageio>=2.3.0 in /usr/local/lib/python3.6/dist-packages (from scikit-image->efficientnet) (2.4.1)\n",
            "Requirement already satisfied: h5py in /usr/local/lib/python3.6/dist-packages (from keras-applications<=1.0.8,>=1.0.7->efficientnet) (2.10.0)\n",
            "Requirement already satisfied: numpy>=1.9.1 in /usr/local/lib/python3.6/dist-packages (from keras-applications<=1.0.8,>=1.0.7->efficientnet) (1.18.5)\n",
            "Requirement already satisfied: pyparsing!=2.0.4,!=2.1.2,!=2.1.6,>=2.0.1 in /usr/local/lib/python3.6/dist-packages (from matplotlib!=3.0.0,>=2.0.0->scikit-image->efficientnet) (2.4.7)\n",
            "Requirement already satisfied: cycler>=0.10 in /usr/local/lib/python3.6/dist-packages (from matplotlib!=3.0.0,>=2.0.0->scikit-image->efficientnet) (0.10.0)\n",
            "Requirement already satisfied: python-dateutil>=2.1 in /usr/local/lib/python3.6/dist-packages (from matplotlib!=3.0.0,>=2.0.0->scikit-image->efficientnet) (2.8.1)\n",
            "Requirement already satisfied: kiwisolver>=1.0.1 in /usr/local/lib/python3.6/dist-packages (from matplotlib!=3.0.0,>=2.0.0->scikit-image->efficientnet) (1.2.0)\n",
            "Requirement already satisfied: decorator>=4.3.0 in /usr/local/lib/python3.6/dist-packages (from networkx>=2.0->scikit-image->efficientnet) (4.4.2)\n",
            "Requirement already satisfied: six in /usr/local/lib/python3.6/dist-packages (from h5py->keras-applications<=1.0.8,>=1.0.7->efficientnet) (1.15.0)\n",
            "Installing collected packages: keras-applications, efficientnet\n",
            "Successfully installed efficientnet-1.1.1 keras-applications-1.0.8\n"
          ],
          "name": "stdout"
        }
      ]
    },
    {
      "cell_type": "code",
      "metadata": {
        "id": "ldMnX12sDSyj"
      },
      "source": [
        "# FILE STRUCTURE\n",
        "\n",
        "train_path = '/content/drive/My Drive/Data/DashSpeed/Train/Train/'\n",
        "val_path = '/content/drive/My Drive/Data/DashSpeed/Validation/Validation/'\n",
        "test_path = '/content/drive/My Drive/Data/DashSpeed/Test/Test/'\n",
        "\n",
        "train_ids = os.listdir(train_path)\n",
        "val_ids = os.listdir(val_path)\n",
        "test_ids = os.listdir(test_path)\n",
        "\n",
        "img_names = [f'00{i}.jpg' for i in range(1,9)]\n",
        "\n",
        "IMAGE_SHAPE = (720//2,1280//2,3)"
      ],
      "execution_count": null,
      "outputs": []
    },
    {
      "cell_type": "code",
      "metadata": {
        "id": "e7KIJcCDG4bS"
      },
      "source": [
        "import keras.applications as apn\n",
        "import efficientnet.keras as efn\n",
        "from keras.models import Model\n",
        "from keras.layers import *\n",
        "\n",
        "base = apn.InceptionResNetV2(weights='imagenet', input_shape=IMAGE_SHAPE, include_top=False, pooling='avg')\n",
        "base.trainable=False\n",
        "\n",
        "def generate_features(data_path, data_ids, model, dst_path, type_of_data):\n",
        "    npy_path = []\n",
        "    speeds = []\n",
        "    iter = 0\n",
        "    for id in data_ids:\n",
        "        print(iter, end=' ')\n",
        "        iter += 1\n",
        "        eight_images = []\n",
        "\n",
        "        for img_name in img_names:\n",
        "            img = plt.imread(fname = data_path + id + '/imgs/' + img_name)\n",
        "            img = cv2.resize(img, (720//2, 1280//2)).reshape(1,IMAGE_SHAPE[0],IMAGE_SHAPE[1],IMAGE_SHAPE[2])\n",
        "            npy = model.predict(img)\n",
        "            eight_images.append(npy)\n",
        "        \n",
        "        features = np.array(eight_images)\n",
        "        \n",
        "        feature_file = f'{id}.npy'\n",
        "\n",
        "        if type_of_data != 'Test':\n",
        "            x,y = pd.read_json(data_path + id + '/annotation.json').velocity.values[0]\n",
        "            speed = np.sqrt(x**2 + y**2)\n",
        "            npy_path.append(feature_file)\n",
        "            speeds.append(speed)\n",
        "        \n",
        "        else:\n",
        "            speed = np.nan\n",
        "            npy_path.append(feature_file)\n",
        "            speeds.append(speed)\n",
        "        \n",
        "        np.save(file=f'{dst_path}/{type_of_data}/{id}.npy', arr=features)\n",
        "\n",
        "    dataframe = pd.DataFrame({'id':npy_path, 'speed':speeds})\n",
        "    dataframe.to_csv(f'{dst_path}/{type_of_data}_features.csv', index=False)\n",
        "    \n",
        "\n",
        "print('Train:')\n",
        "generate_features(data_path=train_path, data_ids=train_ids, model=base, dst_path='/content/drive/My Drive/Data/DashSpeed/FeaturesDenseOriginal',\n",
        "                  type_of_data='Train')\n",
        "print()\n",
        "print('Test:')\n",
        "generate_features(data_path=test_path, data_ids=test_ids, model=base, dst_path='/content/drive/My Drive/Data/DashSpeed/FeaturesDenseOriginal',\n",
        "                  type_of_data='Test')\n",
        "print()\n",
        "print('Validation:')\n",
        "df = generate_features(data_path=val_path, data_ids=val_ids, model=base, dst_path='/content/drive/My Drive/Data/DashSpeed/FeaturesDenseOriginal',\n",
        "                  type_of_data='Validation')"
      ],
      "execution_count": null,
      "outputs": []
    },
    {
      "cell_type": "code",
      "metadata": {
        "id": "YhvlDRlFNLCi"
      },
      "source": [
        ""
      ],
      "execution_count": null,
      "outputs": []
    }
  ]
}